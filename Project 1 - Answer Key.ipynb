{
 "cells": [
  {
   "cell_type": "markdown",
   "id": "52b2a56d",
   "metadata": {},
   "source": [
    "## Part 0: Load Data"
   ]
  },
  {
   "cell_type": "markdown",
   "id": "7cc78b24",
   "metadata": {},
   "source": [
    "Set the variable `CENSUS_FILE` to the **full path** to the census dataset (**census_dataset.csv**) on your system. Load the file into a dataframe (you may intialize the column names using the header list `census_column_names`), then:\n",
    "1. Determine the number and types of features.\n",
    "2. Determine the number of classes and their prevalence in the dataset. Are the classes balanced?\n",
    "3. Perform any necessary preprocessing on dataset.\n",
    "4. Perform a **stratified split** of the data into training/validation/test sets, 60%/20%/20%. \n",
    "5. Verify that the training/validation/test splits have the same prevalence as the original dataset.\n",
    "6. Standardize the training/validation/test splits (fit on the training, then transform the validation/test sets). Use the standardized splits for the SVM models *only*."
   ]
  },
  {
   "cell_type": "code",
   "execution_count": 1,
   "id": "850f40ab",
   "metadata": {},
   "outputs": [],
   "source": [
    "census_column_names=['age','workclass','fnlwgt','education','education-num',\n",
    "                      'marital-status','occupation','relationship','race','sex',\n",
    "                      'capital-gain','capital-loss','hours-per-week','native-country',\n",
    "                      'annual-income']"
   ]
  },
  {
   "cell_type": "code",
   "execution_count": 2,
   "id": "9cb97fb2",
   "metadata": {},
   "outputs": [
    {
     "data": {
      "text/html": [
       "<div>\n",
       "<style scoped>\n",
       "    .dataframe tbody tr th:only-of-type {\n",
       "        vertical-align: middle;\n",
       "    }\n",
       "\n",
       "    .dataframe tbody tr th {\n",
       "        vertical-align: top;\n",
       "    }\n",
       "\n",
       "    .dataframe thead th {\n",
       "        text-align: right;\n",
       "    }\n",
       "</style>\n",
       "<table border=\"1\" class=\"dataframe\">\n",
       "  <thead>\n",
       "    <tr style=\"text-align: right;\">\n",
       "      <th></th>\n",
       "      <th>age</th>\n",
       "      <th>workclass</th>\n",
       "      <th>fnlwgt</th>\n",
       "      <th>education</th>\n",
       "      <th>education-num</th>\n",
       "      <th>marital-status</th>\n",
       "      <th>occupation</th>\n",
       "      <th>relationship</th>\n",
       "      <th>race</th>\n",
       "      <th>sex</th>\n",
       "      <th>capital-gain</th>\n",
       "      <th>capital-loss</th>\n",
       "      <th>hours-per-week</th>\n",
       "      <th>native-country</th>\n",
       "      <th>annual-income</th>\n",
       "    </tr>\n",
       "  </thead>\n",
       "  <tbody>\n",
       "    <tr>\n",
       "      <th>0</th>\n",
       "      <td>73</td>\n",
       "      <td>Unknown</td>\n",
       "      <td>378922</td>\n",
       "      <td>HS-grad</td>\n",
       "      <td>9</td>\n",
       "      <td>Married-spouse-absent</td>\n",
       "      <td>Unknown</td>\n",
       "      <td>Not-in-family</td>\n",
       "      <td>White</td>\n",
       "      <td>Female</td>\n",
       "      <td>0</td>\n",
       "      <td>0</td>\n",
       "      <td>20</td>\n",
       "      <td>Canada</td>\n",
       "      <td>&lt;=50K</td>\n",
       "    </tr>\n",
       "    <tr>\n",
       "      <th>1</th>\n",
       "      <td>46</td>\n",
       "      <td>Private</td>\n",
       "      <td>207807</td>\n",
       "      <td>10th</td>\n",
       "      <td>6</td>\n",
       "      <td>Married-civ-spouse</td>\n",
       "      <td>Machine-op-inspct</td>\n",
       "      <td>Wife</td>\n",
       "      <td>Black</td>\n",
       "      <td>Female</td>\n",
       "      <td>0</td>\n",
       "      <td>0</td>\n",
       "      <td>30</td>\n",
       "      <td>United-States</td>\n",
       "      <td>&lt;=50K</td>\n",
       "    </tr>\n",
       "    <tr>\n",
       "      <th>2</th>\n",
       "      <td>55</td>\n",
       "      <td>Self-emp-not-inc</td>\n",
       "      <td>319733</td>\n",
       "      <td>HS-grad</td>\n",
       "      <td>9</td>\n",
       "      <td>Married-civ-spouse</td>\n",
       "      <td>Craft-repair</td>\n",
       "      <td>Husband</td>\n",
       "      <td>White</td>\n",
       "      <td>Male</td>\n",
       "      <td>0</td>\n",
       "      <td>0</td>\n",
       "      <td>40</td>\n",
       "      <td>United-States</td>\n",
       "      <td>&lt;=50K</td>\n",
       "    </tr>\n",
       "    <tr>\n",
       "      <th>3</th>\n",
       "      <td>38</td>\n",
       "      <td>Unknown</td>\n",
       "      <td>365465</td>\n",
       "      <td>Assoc-voc</td>\n",
       "      <td>11</td>\n",
       "      <td>Never-married</td>\n",
       "      <td>Unknown</td>\n",
       "      <td>Own-child</td>\n",
       "      <td>White</td>\n",
       "      <td>Male</td>\n",
       "      <td>0</td>\n",
       "      <td>0</td>\n",
       "      <td>15</td>\n",
       "      <td>United-States</td>\n",
       "      <td>&lt;=50K</td>\n",
       "    </tr>\n",
       "    <tr>\n",
       "      <th>4</th>\n",
       "      <td>26</td>\n",
       "      <td>Self-emp-not-inc</td>\n",
       "      <td>33016</td>\n",
       "      <td>Assoc-voc</td>\n",
       "      <td>11</td>\n",
       "      <td>Divorced</td>\n",
       "      <td>Other-service</td>\n",
       "      <td>Unmarried</td>\n",
       "      <td>White</td>\n",
       "      <td>Female</td>\n",
       "      <td>0</td>\n",
       "      <td>0</td>\n",
       "      <td>55</td>\n",
       "      <td>United-States</td>\n",
       "      <td>&lt;=50K</td>\n",
       "    </tr>\n",
       "  </tbody>\n",
       "</table>\n",
       "</div>"
      ],
      "text/plain": [
       "   age         workclass  fnlwgt  education  education-num  \\\n",
       "0   73           Unknown  378922    HS-grad              9   \n",
       "1   46           Private  207807       10th              6   \n",
       "2   55  Self-emp-not-inc  319733    HS-grad              9   \n",
       "3   38           Unknown  365465  Assoc-voc             11   \n",
       "4   26  Self-emp-not-inc   33016  Assoc-voc             11   \n",
       "\n",
       "          marital-status         occupation   relationship   race     sex  \\\n",
       "0  Married-spouse-absent            Unknown  Not-in-family  White  Female   \n",
       "1     Married-civ-spouse  Machine-op-inspct           Wife  Black  Female   \n",
       "2     Married-civ-spouse       Craft-repair        Husband  White    Male   \n",
       "3          Never-married            Unknown      Own-child  White    Male   \n",
       "4               Divorced      Other-service      Unmarried  White  Female   \n",
       "\n",
       "   capital-gain  capital-loss  hours-per-week native-country annual-income  \n",
       "0             0             0              20         Canada         <=50K  \n",
       "1             0             0              30  United-States         <=50K  \n",
       "2             0             0              40  United-States         <=50K  \n",
       "3             0             0              15  United-States         <=50K  \n",
       "4             0             0              55  United-States         <=50K  "
      ]
     },
     "execution_count": 2,
     "metadata": {},
     "output_type": "execute_result"
    }
   ],
   "source": [
    "#load the dataset\n",
    "import pandas as pd\n",
    "import numpy as np\n",
    "import os\n",
    "\n",
    "#CENSUS_FILE = <full path to dataset>\n",
    "census_data=pd.read_csv(\"census_dataset.csv\",names=census_column_names)\n",
    "census_data.head()"
   ]
  },
  {
   "cell_type": "markdown",
   "id": "f193cc2e",
   "metadata": {},
   "source": [
    "1. Determine the number and types of features."
   ]
  },
  {
   "cell_type": "code",
   "execution_count": 3,
   "id": "145aa163",
   "metadata": {},
   "outputs": [
    {
     "name": "stdout",
     "output_type": "stream",
     "text": [
      "Number of features: 14\n"
     ]
    }
   ],
   "source": [
    "#Determine number of features, one less that the total number of columns as annual-income is the label\n",
    "num_features=len(census_data.columns)-1\n",
    "print(\"Number of features:\",num_features)"
   ]
  },
  {
   "cell_type": "code",
   "execution_count": 4,
   "id": "c9c8ae01",
   "metadata": {},
   "outputs": [
    {
     "name": "stdout",
     "output_type": "stream",
     "text": [
      "workclass : ['Unknown' 'Private' 'Self-emp-not-inc' 'Federal-gov' 'State-gov'\n",
      " 'Self-emp-inc' 'Local-gov' 'Never-worked' 'Without-pay']\n",
      "education : ['HS-grad' '10th' 'Assoc-voc' 'Assoc-acdm' 'Bachelors' 'Prof-school'\n",
      " 'Some-college' 'Masters' '9th' '12th' '7th-8th' '11th' '5th-6th'\n",
      " 'Doctorate' '1st-4th' 'Preschool']\n",
      "marital-status : ['Married-spouse-absent' 'Married-civ-spouse' 'Never-married' 'Divorced'\n",
      " 'Separated' 'Widowed' 'Married-AF-spouse']\n",
      "occupation : ['Unknown' 'Machine-op-inspct' 'Craft-repair' 'Other-service' 'Sales'\n",
      " 'Prof-specialty' 'Exec-managerial' 'Adm-clerical' 'Protective-serv'\n",
      " 'Transport-moving' 'Farming-fishing' 'Tech-support' 'Handlers-cleaners'\n",
      " 'Priv-house-serv' 'Armed-Forces']\n",
      "relationship : ['Not-in-family' 'Wife' 'Husband' 'Own-child' 'Unmarried' 'Other-relative']\n",
      "race : ['White' 'Black' 'Asian-Pac-Islander' 'Amer-Indian-Eskimo' 'Other']\n",
      "sex : ['Female' 'Male']\n",
      "native-country : ['Canada' 'United-States' 'Cuba' 'China' 'England' 'Germany' 'Mexico'\n",
      " 'Unknown' 'Cambodia' 'Italy' 'Columbia' 'Puerto-Rico' 'El-Salvador'\n",
      " 'Iran' 'Vietnam' 'France' 'Japan' 'South' 'Philippines'\n",
      " 'Outlying-US(Guam-USVI-etc)' 'Ecuador' 'Greece' 'India'\n",
      " 'Dominican-Republic' 'Nicaragua' 'Jamaica' 'Laos' 'Trinadad&Tobago'\n",
      " 'Taiwan' 'Haiti' 'Poland' 'Honduras' 'Thailand' 'Portugal' 'Yugoslavia'\n",
      " 'Hong' 'Scotland' 'Ireland' 'Peru' 'Hungary' 'Guatemala']\n",
      "annual-income : ['<=50K' '>50K']\n"
     ]
    }
   ],
   "source": [
    "#Determine nature of object types\n",
    "census_cat_columns=dict()\n",
    "census_cat_columns_idx=dict()\n",
    "census_num_columns_idx=dict()\n",
    "for col in census_column_names:\n",
    "    if census_data[col].dtype == 'object':\n",
    "        census_cat_columns[col]=census_data[col].unique()\n",
    "        census_cat_columns_idx[col]=census_data.columns.get_loc(col)\n",
    "        print(col,\":\",census_cat_columns[col])\n",
    "    elif np.issubdtype(census_data.at[0,col], np.number):\n",
    "        census_num_columns_idx[col]=census_data.columns.get_loc(col)"
   ]
  },
  {
   "cell_type": "markdown",
   "id": "04810151",
   "metadata": {},
   "source": [
    "2. Determine the number of classes and their prevalence in the dataset. Are the classes balanced?"
   ]
  },
  {
   "cell_type": "code",
   "execution_count": 5,
   "id": "d39401ed",
   "metadata": {},
   "outputs": [
    {
     "data": {
      "text/plain": [
       "<=50K    19915\n",
       ">50K      7567\n",
       "Name: annual-income, dtype: int64"
      ]
     },
     "execution_count": 5,
     "metadata": {},
     "output_type": "execute_result"
    }
   ],
   "source": [
    "#determine class counts\n",
    "census_data['annual-income'].value_counts()"
   ]
  },
  {
   "cell_type": "code",
   "execution_count": 6,
   "id": "098506d2",
   "metadata": {},
   "outputs": [
    {
     "data": {
      "text/plain": [
       "<=50K    0.724656\n",
       ">50K     0.275344\n",
       "Name: annual-income, dtype: float64"
      ]
     },
     "execution_count": 6,
     "metadata": {},
     "output_type": "execute_result"
    }
   ],
   "source": [
    "#determine class percentages\n",
    "census_data['annual-income'].value_counts()/len(census_data['annual-income'])"
   ]
  },
  {
   "cell_type": "markdown",
   "id": "bb253ca7",
   "metadata": {},
   "source": [
    "No, the classes aren't balanced."
   ]
  },
  {
   "cell_type": "markdown",
   "id": "efdf10a7",
   "metadata": {},
   "source": [
    "3. Perform any necessary preprocessing on dataset."
   ]
  },
  {
   "cell_type": "code",
   "execution_count": 7,
   "id": "1965b814",
   "metadata": {},
   "outputs": [
    {
     "name": "stdout",
     "output_type": "stream",
     "text": [
      "workclass : ['Unknown' 'Private' 'Self-emp-not-inc' 'Federal-gov' 'State-gov'\n",
      " 'Self-emp-inc' 'Local-gov' 'Never-worked' 'Without-pay']\n",
      "marital-status : ['Married-spouse-absent' 'Married-civ-spouse' 'Never-married' 'Divorced'\n",
      " 'Separated' 'Widowed' 'Married-AF-spouse']\n",
      "occupation : ['Unknown' 'Machine-op-inspct' 'Craft-repair' 'Other-service' 'Sales'\n",
      " 'Prof-specialty' 'Exec-managerial' 'Adm-clerical' 'Protective-serv'\n",
      " 'Transport-moving' 'Farming-fishing' 'Tech-support' 'Handlers-cleaners'\n",
      " 'Priv-house-serv' 'Armed-Forces']\n",
      "relationship : ['Not-in-family' 'Wife' 'Husband' 'Own-child' 'Unmarried' 'Other-relative']\n",
      "race : ['White' 'Black' 'Asian-Pac-Islander' 'Amer-Indian-Eskimo' 'Other']\n",
      "sex : ['Female' 'Male']\n",
      "native-country : ['Canada' 'United-States' 'Cuba' 'China' 'England' 'Germany' 'Mexico'\n",
      " 'Unknown' 'Cambodia' 'Italy' 'Columbia' 'Puerto-Rico' 'El-Salvador'\n",
      " 'Iran' 'Vietnam' 'France' 'Japan' 'South' 'Philippines'\n",
      " 'Outlying-US(Guam-USVI-etc)' 'Ecuador' 'Greece' 'India'\n",
      " 'Dominican-Republic' 'Nicaragua' 'Jamaica' 'Laos' 'Trinadad&Tobago'\n",
      " 'Taiwan' 'Haiti' 'Poland' 'Honduras' 'Thailand' 'Portugal' 'Yugoslavia'\n",
      " 'Hong' 'Scotland' 'Ireland' 'Peru' 'Hungary' 'Guatemala']\n",
      "annual-income : ['<=50K' '>50K']\n"
     ]
    }
   ],
   "source": [
    "#let's drop education as it is redundant\n",
    "census_data.drop('education',axis=1,inplace=True)\n",
    "census_column_names.remove('education')\n",
    "#need to remap indices\n",
    "census_cat_columns=dict()\n",
    "census_cat_columns_idx=dict()\n",
    "census_num_columns_idx=[]\n",
    "for col in census_column_names:\n",
    "    if census_data[col].dtype == 'object':\n",
    "        census_cat_columns[col]=census_data[col].unique()\n",
    "        census_cat_columns_idx[col]=census_data.columns.get_loc(col)\n",
    "        print(col,\":\",census_cat_columns[col])\n",
    "    elif np.issubdtype(census_data.at[0,col], np.number):\n",
    "        census_num_columns_idx.append(census_data.columns.get_loc(col))"
   ]
  },
  {
   "cell_type": "markdown",
   "id": "fe986e6e",
   "metadata": {},
   "source": [
    "In order to make this data ready for training models, we will need to encode the categorical data. Typically this would be done using one-hot encoding, or binary encoding if there are many categories for a given feature.\n",
    "\n",
    "Another option is to use some auxillary numerical information to replace the category. We will use this technique for encoding the ``native-country`` category by replacing country's name with the longitude and latitude of its geographic center."
   ]
  },
  {
   "cell_type": "code",
   "execution_count": 8,
   "id": "f1d93e3b",
   "metadata": {},
   "outputs": [],
   "source": [
    "country_data=pd.read_csv(\"countries.csv\")\n",
    "country_centroids={cc[0]: cc[1:] for cc in zip(country_data.name,country_data.latitude,country_data.longitude)}\n",
    "inverse_country_centroids={(cc[1],cc[2]): cc[0] for cc in zip(country_data.name,country_data.latitude,country_data.longitude)}"
   ]
  },
  {
   "cell_type": "code",
   "execution_count": 9,
   "id": "c5314c31",
   "metadata": {},
   "outputs": [],
   "source": [
    "import re\n",
    "from sklearn.preprocessing import FunctionTransformer\n",
    "from functools import partial\n",
    "\n",
    "def _CountryMapper(name):\n",
    "    re_and = re.compile('&')\n",
    "    re_dash = re.compile('-')\n",
    "    #replace dashes and ampersands\n",
    "    name = re_and.sub(' and ',name)\n",
    "    name = re_dash.sub(' ',name)\n",
    "    \n",
    "    #handle additional mappings\n",
    "    if name == 'South':\n",
    "        return 'South Korea'\n",
    "    elif name == 'Outlying US(Guam USVI etc)':        \n",
    "        return 'Marshall Islands'\n",
    "    elif name == 'Hong':\n",
    "        return 'Hong Kong'\n",
    "    elif name == 'England' or name == 'Scotland':\n",
    "        return 'United Kingdom'\n",
    "    elif name == 'Columbia':\n",
    "        return 'Colombia'\n",
    "    elif name == 'Trinadad and Tobago':\n",
    "        return 'Trinidad and Tobago'\n",
    "    elif name == 'Yugoslavia':\n",
    "        return 'Bosnia and Herzegovina'\n",
    "    elif name == 'Unknown':\n",
    "        return 'United States'\n",
    "    else:\n",
    "        return name\n",
    "    \n",
    "def _CountryTransformer(data,mapper=None):\n",
    "        num_samples= len(data)\n",
    "        trans_data = np.zeros([num_samples,2])\n",
    "        for i in range(num_samples):\n",
    "            if mapper is not None:\n",
    "                key=mapper(data[i,0])\n",
    "            if key is None:\n",
    "                print(data[i])\n",
    "            trans_data[i,:]=country_centroids[key]\n",
    "        return trans_data\n",
    "\n",
    "def _InverseCountryTransformer(data):\n",
    "        num_samples= len(data)\n",
    "        trans_data = np.empty([num_samples,0],dtype=np.str_)\n",
    "        for i in range(num_samples):\n",
    "            trans_data[i,:]=inverse_country_centroids[(data[i,0],data[i,1])]\n",
    "        return trans_data\n",
    "\n",
    "def _FeatureNamesOut(self,input_features):\n",
    "    return ['native-country-lat','native-country-long']\n",
    "\n",
    "_CensusTransformer = partial(_CountryTransformer, mapper=_CountryMapper)\n",
    "CountryEncoder = FunctionTransformer(func=_CensusTransformer, \n",
    "                                      inverse_func=_InverseCountryTransformer,\n",
    "                                      check_inverse=False,\n",
    "                                      feature_names_out=_FeatureNamesOut)"
   ]
  },
  {
   "cell_type": "markdown",
   "id": "b44f1819",
   "metadata": {},
   "source": [
    "We are now ready to encode the dataset:"
   ]
  },
  {
   "cell_type": "code",
   "execution_count": 10,
   "id": "d3bc319d",
   "metadata": {},
   "outputs": [],
   "source": [
    "from sklearn.preprocessing import OrdinalEncoder\n",
    "from sklearn.preprocessing import OneHotEncoder\n",
    "\n",
    "census_cat_names=list(census_cat_columns.keys())\n",
    "census_cat_names.remove('annual-income')\n",
    "census_cat_names.remove('native-country')\n",
    "census_cat_indices=list(census_cat_columns_idx.values())\n",
    "census_cat_indices.remove(census_cat_columns_idx['annual-income'])\n",
    "country_index=[census_cat_columns_idx['native-country']]\n",
    "census_cat_indices.remove(census_cat_columns_idx['native-country'])\n",
    "\n",
    "#split features and labels, convert X sets to numpy to enable inverse transform\n",
    "X_data = census_data.drop('annual-income',axis=1)\n",
    "X_data = X_data.to_numpy()\n",
    "Y_data = census_data[['annual-income']]\n",
    "Y_data = Y_data.to_numpy()\n",
    "\n",
    "oh_encoder = OneHotEncoder(sparse=False)\n",
    "label_encoder = OrdinalEncoder()\n",
    "\n",
    "#encode features and labels\n",
    "X_country_enc=CountryEncoder.fit_transform(X_data[:,country_index])\n",
    "np.delete(X_data,country_index,axis=1)\n",
    "X_oh_enc=oh_encoder.fit_transform(X_data[:,census_cat_indices])\n",
    "X_data_enc=np.concatenate([X_data[:,census_num_columns_idx],\n",
    "                           X_oh_enc,\n",
    "                           X_country_enc],\n",
    "                          axis=1)\n",
    "Y_data_enc = label_encoder.fit_transform(Y_data)\n",
    "\n",
    "#get final feature list name\n",
    "fn_partial=census_data.columns\n",
    "feature_names_enc=np.concatenate([fn_partial[census_num_columns_idx],\n",
    "                                  oh_encoder.get_feature_names_out(),\n",
    "                                  CountryEncoder.get_feature_names_out()],\n",
    "                                 axis=0)"
   ]
  },
  {
   "cell_type": "code",
   "execution_count": 11,
   "id": "10463115",
   "metadata": {},
   "outputs": [
    {
     "data": {
      "text/plain": [
       "[array(['<=50K', '>50K'], dtype=object)]"
      ]
     },
     "execution_count": 11,
     "metadata": {},
     "output_type": "execute_result"
    }
   ],
   "source": [
    "#let's print out the encoded class labels so we know which is considered \"positive\": 1 and \"negative\": 0\n",
    "label_encoder.categories_"
   ]
  },
  {
   "cell_type": "markdown",
   "id": "5510af67",
   "metadata": {},
   "source": [
    "Thus, '<=50K' is being encoded as 0, and '>50K' is being encoded as 1."
   ]
  },
  {
   "cell_type": "markdown",
   "id": "59247031",
   "metadata": {},
   "source": [
    "4. Perform a **stratified split** of the data into training/validation/test sets, 60%/20%/20%. "
   ]
  },
  {
   "cell_type": "code",
   "execution_count": 12,
   "id": "b2bc4179",
   "metadata": {},
   "outputs": [],
   "source": [
    "from sklearn.model_selection import StratifiedShuffleSplit\n",
    "split_test = StratifiedShuffleSplit(n_splits=1,test_size=0.2, random_state=189973487)\n",
    "for train_index, test_index in split_test.split(X_data_enc, Y_data_enc):\n",
    "    X_train_proj_full = X_data_enc[train_index,:]\n",
    "    X_test_proj = X_data_enc[test_index,:]\n",
    "    Y_train_proj_full = Y_data_enc[train_index]\n",
    "    Y_test_proj = Y_data_enc[test_index]\n",
    "\n",
    "split_validation = StratifiedShuffleSplit(n_splits=1,test_size=0.25, random_state=189973487)\n",
    "for train_index, validation_index in split_validation.split(X_train_proj_full, Y_train_proj_full):\n",
    "    X_train_proj = X_train_proj_full[train_index,:]\n",
    "    X_validation_proj = X_train_proj_full[validation_index,:]\n",
    "    Y_train_proj = Y_train_proj_full[train_index]\n",
    "    Y_validation_proj = Y_train_proj_full[validation_index]\n",
    "    \n",
    "#reshape labels for sklearn\n",
    "Y_train_proj_full =  Y_train_proj_full.reshape((Y_train_proj_full.shape[0],))\n",
    "Y_train_proj = Y_train_proj.reshape((Y_train_proj.shape[0],))\n",
    "Y_validation_proj= Y_validation_proj.reshape((Y_validation_proj.shape[0],))\n",
    "Y_test_proj = Y_test_proj.reshape((Y_test_proj.shape[0],))"
   ]
  },
  {
   "cell_type": "markdown",
   "id": "ceffbe85",
   "metadata": {},
   "source": [
    "5. Verify that the training/validation/test splits have the same prevalence as the original dataset."
   ]
  },
  {
   "cell_type": "code",
   "execution_count": 13,
   "id": "c81d84ce",
   "metadata": {},
   "outputs": [
    {
     "name": "stdout",
     "output_type": "stream",
     "text": [
      "Dataset\t\tPercent\n",
      "Training\t0.2753517709849588\n",
      "Validation\t0.2752410405675823\n",
      "Test\t\t0.2754229579770784\n"
     ]
    }
   ],
   "source": [
    "print(\"Dataset\\t\\tPercent\")\n",
    "print(\"Training\\t\"+str(np.sum(Y_train_proj)/len(Y_train_proj)))\n",
    "print(\"Validation\\t\"+str(np.sum(Y_validation_proj)/len(Y_validation_proj)))\n",
    "print(\"Test\\t\\t\"+str(np.sum(Y_test_proj)/len(Y_test_proj)))"
   ]
  },
  {
   "cell_type": "markdown",
   "id": "1c8c7860",
   "metadata": {},
   "source": [
    "6. Standardize the training/validation/test splits (fit on the training, then transform the validation/test sets)."
   ]
  },
  {
   "cell_type": "code",
   "execution_count": 14,
   "id": "16fc3687",
   "metadata": {},
   "outputs": [],
   "source": [
    "from sklearn.preprocessing import StandardScaler\n",
    "svm_scaler = StandardScaler()\n",
    "X_train_proj_scaled=svm_scaler.fit_transform(X_train_proj)\n",
    "X_validation_proj_scaled=svm_scaler.transform(X_validation_proj)\n",
    "X_test_proj_scaled=svm_scaler.transform(X_test_proj)\n",
    "X_train_proj_full_scaled=svm_scaler.transform(X_train_proj_full)"
   ]
  },
  {
   "cell_type": "markdown",
   "id": "0eb1a3c8",
   "metadata": {},
   "source": [
    "## Part 1: Train Initial Models"
   ]
  },
  {
   "cell_type": "markdown",
   "id": "721c87b8",
   "metadata": {},
   "source": [
    "Using default hyperparameters:\n",
    "1. Construct **Naive Bayes (NB)**, **Support Vector Machine (SVM)** , and **Random Forest (RF)** models on the training set.\n",
    "2. Calculate the confusion matrix and report the following performance metrics on the **training set**:\n",
    "    *Accuracy*, *F1 Score*, *AUC*, *Sensitivity*, *Specificity*, and *Precision*. You can use the function `p1_metrics` for this purpose. Are any of the models underfitting the data? Is so, why?\n",
    "3. Calculate the same metrics by applying the trained model to the **validation set**. Compare and contrast the errors each model makes in terms of each class. "
   ]
  },
  {
   "cell_type": "code",
   "execution_count": 15,
   "id": "d3d9122f",
   "metadata": {},
   "outputs": [],
   "source": [
    "#peformance metric functions\n",
    "from sklearn.metrics import confusion_matrix, roc_auc_score, f1_score\n",
    "import numpy as np\n",
    "\n",
    "#A list of keys for the dictionary returned by p1_metrics\n",
    "metric_keys = ['auc','f1','accuracy','sensitivity','specificity', 'precision']\n",
    "\n",
    "def p1_metrics(y_true,y_pred,include_cm=True):\n",
    "    cm = confusion_matrix(y_true,y_pred)\n",
    "    tn, fp, fn, tp = cm.ravel()\n",
    "    \n",
    "    if include_cm:\n",
    "        return {\n",
    "            'auc': roc_auc_score(y_true,y_pred),\n",
    "            'f1': f1_score(y_true,y_pred),\n",
    "            'accuracy': (tp+tn)/np.sum(cm),\n",
    "            'sensitivity': tp/(tp+fn),\n",
    "            'specificity': tn/(tn+fp),\n",
    "            'precision': tp/(tp+fp),\n",
    "            'confusion_matrix': cm}\n",
    "    else:\n",
    "        return {\n",
    "            'auc': roc_auc_score(y_true,y_pred),\n",
    "            'f1': f1_score(y_true,y_pred),\n",
    "            'accuracy': (tp+tn)/np.sum(cm),\n",
    "            'sensitivity': tp/(tp+fn),\n",
    "            'specificity': tn/(tn+fp),\n",
    "            'precision': tp/(tp+fp)}\n",
    "\n",
    "#This wrapper can be used to return multiple performance metrics during cross-validation\n",
    "def p1_metrics_scorer(clf,X,y_true):\n",
    "    y_pred=clf.predict(X)\n",
    "    return p1_metrics(y_true,y_pred,include_cm=False)"
   ]
  },
  {
   "cell_type": "markdown",
   "id": "ee0a2b1f",
   "metadata": {},
   "source": [
    "1. Construct **Naive Bayes (NB)**, **Support Vector Machine (SVM)** , and **Random Forest (RF)** models on the training set.\n",
    "2. Calculate the confusion matrix and report the following performance metrics on the **training set**:\n",
    "    *Accuracy*, *F1 Score*, *AUC*, *Sensitivity*, *Specificity*, and *Precision*. You can use the function `p1_metrics` for this purpose. Are any of the models underfitting the data? Is so, why?"
   ]
  },
  {
   "cell_type": "markdown",
   "id": "be02dbb3",
   "metadata": {},
   "source": [
    "## Naive Bayes"
   ]
  },
  {
   "cell_type": "code",
   "execution_count": 16,
   "id": "47d1fb41",
   "metadata": {},
   "outputs": [
    {
     "name": "stdout",
     "output_type": "stream",
     "text": [
      "NB Training Metrics\n",
      "auc: 0.6250674729997389\n",
      "f1: 0.4201680672268908\n",
      "accuracy: 0.7698326055312955\n",
      "sensitivity: 0.30286343612334804\n",
      "specificity: 0.9472715098761298\n",
      "precision: 0.685785536159601\n",
      "confusion_matrix: [[11318   630]\n",
      " [ 3165  1375]]\n"
     ]
    }
   ],
   "source": [
    "from sklearn.naive_bayes import GaussianNB\n",
    "gnb = GaussianNB()\n",
    "gnb.fit(X_train_proj,Y_train_proj)\n",
    "gnb_y_pred=gnb.predict(X_train_proj)\n",
    "gnb_metrics = p1_metrics(Y_train_proj, gnb_y_pred)\n",
    "print(\"NB Training Metrics\")\n",
    "for metric in gnb_metrics:\n",
    "    print(metric+\":\",gnb_metrics[metric])"
   ]
  },
  {
   "cell_type": "markdown",
   "id": "00e01937",
   "metadata": {},
   "source": [
    "## SVM"
   ]
  },
  {
   "cell_type": "code",
   "execution_count": 17,
   "id": "d5550d18",
   "metadata": {},
   "outputs": [
    {
     "name": "stdout",
     "output_type": "stream",
     "text": [
      "SVM Training Metrics\n",
      "auc: 0.8003476887363599\n",
      "f1: 0.7228544333807491\n",
      "accuracy: 0.8581999029597283\n",
      "sensitivity: 0.6715859030837005\n",
      "specificity: 0.929109474389019\n",
      "precision: 0.7825975359342916\n",
      "confusion_matrix: [[11101   847]\n",
      " [ 1491  3049]]\n"
     ]
    }
   ],
   "source": [
    "from sklearn.svm import SVC\n",
    "svmc = SVC()\n",
    "svmc.fit(X_train_proj_scaled,Y_train_proj)\n",
    "svmc_y_pred=svmc.predict(X_train_proj_scaled)\n",
    "svmc_metrics= p1_metrics(Y_train_proj, svmc_y_pred)\n",
    "print(\"SVM Training Metrics\")\n",
    "for metric in svmc_metrics:\n",
    "    print(metric+\":\",svmc_metrics[metric])"
   ]
  },
  {
   "cell_type": "markdown",
   "id": "b71670b5",
   "metadata": {},
   "source": [
    "## Random Forest"
   ]
  },
  {
   "cell_type": "code",
   "execution_count": 18,
   "id": "4cfe9f50",
   "metadata": {},
   "outputs": [
    {
     "name": "stdout",
     "output_type": "stream",
     "text": [
      "Random Forest Training Metrics\n",
      "auc: 1.0\n",
      "f1: 1.0\n",
      "accuracy: 1.0\n",
      "sensitivity: 1.0\n",
      "specificity: 1.0\n",
      "precision: 1.0\n",
      "confusion_matrix: [[11948     0]\n",
      " [    0  4540]]\n"
     ]
    }
   ],
   "source": [
    "from sklearn.ensemble import RandomForestClassifier\n",
    "rf = RandomForestClassifier(random_state=89973487)\n",
    "rf.fit(X_train_proj,Y_train_proj)\n",
    "rf_y_pred=rf.predict(X_train_proj)\n",
    "rf_metrics = p1_metrics(Y_train_proj, rf_y_pred)\n",
    "print(\"Random Forest Training Metrics\")\n",
    "for metric in rf_metrics:\n",
    "    print(metric+\":\",rf_metrics[metric])"
   ]
  },
  {
   "cell_type": "markdown",
   "id": "85bbe02e",
   "metadata": {},
   "source": [
    "Both Naive Bayes and SVM *underfit* the data, with Naive Bayes performing poorly in terms of AUC and other metrics, while the performance of SVM suggests that hyperparameter optimization could improve fit. Random forest may be *overfitting* the data, as it achieves perfect performance on the training set."
   ]
  },
  {
   "cell_type": "markdown",
   "id": "e6e88794",
   "metadata": {},
   "source": [
    "3. Calculate the same metrics by applying the trained model to the **validation set**. Compare and contrast the errors each model makes in terms of each class. "
   ]
  },
  {
   "cell_type": "code",
   "execution_count": 19,
   "id": "6822d65d",
   "metadata": {},
   "outputs": [
    {
     "name": "stdout",
     "output_type": "stream",
     "text": [
      "NB Validation Metrics\n",
      "auc: 0.6251502208437185\n",
      "f1: 0.4189063948100093\n",
      "accuracy: 0.7718755684919046\n",
      "sensitivity: 0.29874421678783875\n",
      "specificity: 0.9515562248995983\n",
      "precision: 0.7007751937984497\n",
      "confusion_matrix: [[3791  193]\n",
      " [1061  452]]\n",
      "SVM Validation Metrics\n",
      "auc: 0.7773074286571269\n",
      "f1: 0.6882183908045978\n",
      "accuracy: 0.8420956885573949\n",
      "sensitivity: 0.6331791143423662\n",
      "specificity: 0.9214357429718876\n",
      "precision: 0.7537372147915028\n",
      "confusion_matrix: [[3671  313]\n",
      " [ 555  958]]\n",
      "Random Forest Validation Metrics\n",
      "auc: 0.7996872652540101\n",
      "f1: 0.7188811188811188\n",
      "accuracy: 0.8537384027651447\n",
      "sensitivity: 0.6794448116325181\n",
      "specificity: 0.919929718875502\n",
      "precision: 0.7631774313288789\n",
      "confusion_matrix: [[3665  319]\n",
      " [ 485 1028]]\n"
     ]
    }
   ],
   "source": [
    "gnb_y_pred=gnb.predict(X_validation_proj)\n",
    "gnb_metrics = p1_metrics(Y_validation_proj, gnb_y_pred)\n",
    "print(\"NB Validation Metrics\")\n",
    "for metric in gnb_metrics:\n",
    "    print(metric+\":\",gnb_metrics[metric])\n",
    "svmc_y_pred=svmc.predict(X_validation_proj_scaled)\n",
    "svmc_metrics= p1_metrics(Y_validation_proj, svmc_y_pred)\n",
    "print(\"SVM Validation Metrics\")\n",
    "for metric in svmc_metrics:\n",
    "    print(metric+\":\",svmc_metrics[metric])\n",
    "rf_y_pred=rf.predict(X_validation_proj)\n",
    "rf_metrics = p1_metrics(Y_validation_proj, rf_y_pred)\n",
    "print(\"Random Forest Validation Metrics\")\n",
    "for metric in rf_metrics:\n",
    "    print(metric+\":\",rf_metrics[metric])"
   ]
  },
  {
   "cell_type": "markdown",
   "id": "8ac52bd2",
   "metadata": {},
   "source": [
    "As show by the specificity values, all models are doing well on the '<=50K' class. This is likely due to the class imbalance. The performance of Naive Bayes seems almost wholly due to this class imbalance, as the accuracy (77%) is only slighly higher than the class balance (72.5% '<=50K'). Both SVM and Random Forest perform similarly across all metrics, with Random Forest doing slighly better than SVM on the minority class ('>50K'), as evinced by the sensitivity metrics."
   ]
  },
  {
   "cell_type": "markdown",
   "id": "5784cab5",
   "metadata": {},
   "source": [
    "## Part 2: Cross-Validation Models"
   ]
  },
  {
   "cell_type": "markdown",
   "id": "c865e390",
   "metadata": {},
   "source": [
    "Split the **non-test data** (*training* + *validation* data) into **stratified 5-folds** for cross-validation purposes, then:\n",
    "1. Train NB, SVM, and RF models using 5-fold cross-validation.\n",
    "2. Report the mean and standard deviation of the performance metrics listed in Part 1.2 for each model. You may use the function `collate_cv_results` for this purpose.\n",
    "3. How does the performance of these models compare with those created in Part 1? Which models' performances are more consistent, and why?"
   ]
  },
  {
   "cell_type": "code",
   "execution_count": 20,
   "id": "f3f31b1d",
   "metadata": {},
   "outputs": [],
   "source": [
    "#Summarizes model performance results produced during cross-validation\n",
    "def collate_cv_results(cv_results,display=True):\n",
    "    cv_stats=dict()\n",
    "    for k in cv_results:\n",
    "        cv_stats[k+\"_mean\"]=np.mean(cv_results[k])\n",
    "        cv_stats[k+\"_std\"]=np.std(cv_results[k])\n",
    "        if display:\n",
    "            print(k,cv_stats[k+\"_mean\"],\"(\"+str(cv_stats[k+\"_std\"])+\")\")\n",
    "    return cv_stats"
   ]
  },
  {
   "cell_type": "markdown",
   "id": "b5ba7ba3",
   "metadata": {},
   "source": [
    "Split the **non-test data** (*training* + *validation* data) into **stratified 5-folds** for cross-validation purposes:"
   ]
  },
  {
   "cell_type": "code",
   "execution_count": 21,
   "id": "24e8c4dd",
   "metadata": {},
   "outputs": [],
   "source": [
    "#we've already shuffled the data at the start of the project so we don't need to do it here.\n",
    "#Moreover, by not shuffling here the folds will be the same each time we perform CV\n",
    "from sklearn.model_selection import StratifiedKFold\n",
    "skf = StratifiedKFold(n_splits=5)"
   ]
  },
  {
   "cell_type": "markdown",
   "id": "50c68d00",
   "metadata": {},
   "source": [
    "1. Train NB, SVM, and RF models using 5-fold cross-validation.\n",
    "2. Report the mean and standard deviation of the performance metrics listed in Part 1.2 for each model. You may use the function `collate_cv_results` for this purpose."
   ]
  },
  {
   "cell_type": "markdown",
   "id": "be8452bc",
   "metadata": {},
   "source": [
    "## Naive Bayes (CV)"
   ]
  },
  {
   "cell_type": "code",
   "execution_count": 22,
   "id": "056c8a1d",
   "metadata": {},
   "outputs": [
    {
     "name": "stdout",
     "output_type": "stream",
     "text": [
      "fit_time 0.031027793884277344 (0.0022122638699025054)\n",
      "score_time 0.01110377311706543 (0.0013654900937941463)\n",
      "test_auc 0.6245235596288661 (0.004710033661667845)\n",
      "test_f1 0.4189374925024084 (0.010049966607482124)\n",
      "test_accuracy 0.7695246759153969 (0.0034177789209313978)\n",
      "test_sensitivity 0.30183428762514414 (0.009160652138084025)\n",
      "test_specificity 0.9472128316325877 (0.00354117525540194)\n",
      "test_precision 0.6849733581044017 (0.014862276766501223)\n"
     ]
    }
   ],
   "source": [
    "from sklearn.model_selection import cross_validate\n",
    "gnb_cv = GaussianNB()\n",
    "gnb_cv_results = cross_validate(gnb_cv, X_train_proj_full, Y_train_proj_full, cv=skf, scoring=p1_metrics_scorer)\n",
    "#summarize each metric\n",
    "gnb_cv_stats=collate_cv_results(gnb_cv_results)"
   ]
  },
  {
   "cell_type": "markdown",
   "id": "6f4029fa",
   "metadata": {},
   "source": [
    "## SVM (CV)"
   ]
  },
  {
   "cell_type": "code",
   "execution_count": 23,
   "id": "eb0cd99c",
   "metadata": {},
   "outputs": [
    {
     "name": "stdout",
     "output_type": "stream",
     "text": [
      "fit_time 5.978897762298584 (0.13732778275782093)\n",
      "score_time 2.493885135650635 (0.06787742441000558)\n",
      "test_auc 0.7841306956904479 (0.0051308450576919755)\n",
      "test_f1 0.6982605213555684 (0.007107505511525587)\n",
      "test_accuracy 0.8464407550602683 (0.0029979089476068078)\n",
      "test_sensitivity 0.6454647821962588 (0.01165798957636279)\n",
      "test_specificity 0.9227966091846367 (0.00380837048809412)\n",
      "test_precision 0.7606605053189821 (0.0076045058160205455)\n"
     ]
    }
   ],
   "source": [
    "svm_cv = SVC()\n",
    "svm_cv_results = cross_validate(svm_cv, X_train_proj_full_scaled, Y_train_proj_full, cv=skf, scoring=p1_metrics_scorer,n_jobs=-1)\n",
    "#summarize each metric\n",
    "svm_cv_stats=collate_cv_results(svm_cv_results)"
   ]
  },
  {
   "cell_type": "markdown",
   "id": "50b204e0",
   "metadata": {},
   "source": [
    "## Random Forest (CV)"
   ]
  },
  {
   "cell_type": "code",
   "execution_count": 24,
   "id": "09b0d8df",
   "metadata": {},
   "outputs": [
    {
     "name": "stdout",
     "output_type": "stream",
     "text": [
      "fit_time 1.0043653011322022 (0.028004780176899186)\n",
      "score_time 0.06483769416809082 (0.0013828084385278578)\n",
      "test_auc 0.7986465607231558 (0.007402187504245967)\n",
      "test_f1 0.7166779546958594 (0.010620354416981836)\n",
      "test_accuracy 0.8520354787355016 (0.005354173834728116)\n",
      "test_sensitivity 0.6798318444561219 (0.01460693548872226)\n",
      "test_specificity 0.9174612769901895 (0.005837493549298958)\n",
      "test_precision 0.7580055730413575 (0.012528054230500369)\n"
     ]
    }
   ],
   "source": [
    "rf_cv = RandomForestClassifier(random_state=89973487)\n",
    "rf_cv_results = cross_validate(rf_cv, X_train_proj_full, Y_train_proj_full, cv=skf, scoring=p1_metrics_scorer)\n",
    "#summarize each metric\n",
    "rf_cv_stats=collate_cv_results(rf_cv_results)"
   ]
  },
  {
   "cell_type": "markdown",
   "id": "52b4cdca",
   "metadata": {},
   "source": [
    "3. How does the performance of these models compare with those created in Part 1? Which models' performances are more consistent, and why?"
   ]
  },
  {
   "cell_type": "markdown",
   "id": "f94f48f0",
   "metadata": {},
   "source": [
    "In general, performance is comparable on average to the single fold case."
   ]
  },
  {
   "cell_type": "markdown",
   "id": "a8ee068b",
   "metadata": {},
   "source": [
    "## Part 3: SVM Hyperparameter Tuning"
   ]
  },
  {
   "cell_type": "markdown",
   "id": "e30be0cc",
   "metadata": {},
   "source": [
    "Utilizing the cross-validation dataset from Part 2, you will construct SVM models using the below strategies:\n",
    "1. Using `GridSearchCV`, determine the best choice of hyperparameters out of the following possible values:\n",
    "- *Kernel type*: Linear, radial basis function\n",
    "- *Box constraint (C)*: [1, 5, 10, 20]\n",
    "- *Kernel width (gamma)*: 'auto','scale'\n",
    "2. Report the time required to perform cross-validation via `GridSearchCV`. Report the mean and standard deviation of the performance metrics for the best performing model along with its associated hyperparameters. You may use the function `collate_ht_results` for this purpose.\n",
    "3. Using `RandomizedSearchCV`, determine the best choice of hyperparameters after **16 trials** using the same possible values for *kernel type* and *kernel width* but with possible **box constraint** values of [1,5,10,15,....,100]. \n",
    "4. Report the time required to perform cross-validation via `RandomizedSearchCV`. Report the mean and standard deviation of the performance metrics for the best performing model along with its associated hyperparameters.\n",
    "5. Compare the performance of the two models (using the metrics in 1.2) as well as the time required to compute the models. Which hyperparameter method do you think is better in this case, and why?\n",
    "\n",
    "### Please Read!\n",
    "There are a few parameters for the `GridSearchCV` and `RandomizedSearchCV` functions that should be set:\n",
    "- `scoring` - This controls the strategy to evaluate the performance of the cross-validated model on the test set, set it to `p1_metrics_scorer`.\n",
    "- `refit` - This will refit an estimator using the best found parameters on the whole dataset, set it to `\"auc\"`\n",
    "- `cv` - This will enable you to reuse your CV splits from Part 2.\n",
    "- `n_jobs` - Number of jobs to run in parallel, if you have more than one core on your device (you should), set this to as many as you'd like to use, or to `-1` if you want to use all available cores.\n",
    "- `return_train_score` - Setting this to `False` will reduce computational time."
   ]
  },
  {
   "cell_type": "code",
   "execution_count": 25,
   "id": "87d86235",
   "metadata": {},
   "outputs": [],
   "source": [
    "#Summarizes model performance results produced during hyperparameter tuning\n",
    "def collate_ht_results(ht_results,metric_keys=metric_keys,display=True):\n",
    "    ht_stats=dict()\n",
    "    for metric in metric_keys:\n",
    "        ht_stats[metric+\"_mean\"] = ht_results.cv_results_[\"mean_test_\"+metric][ht_results.best_index_]\n",
    "        ht_stats[metric+\"_std\"] = metric_std = ht_results.cv_results_[\"std_test_\"+metric][ht_results.best_index_]\n",
    "        if display:\n",
    "            print(\"test_\"+metric,ht_stats[metric+\"_mean\"],\"(\"+str(ht_stats[metric+\"_std\"])+\")\")\n",
    "    return ht_stats"
   ]
  },
  {
   "cell_type": "markdown",
   "id": "464d86d1",
   "metadata": {},
   "source": [
    "1. Using `GridSearchCV`, determine the best choice of hyperparameters"
   ]
  },
  {
   "cell_type": "code",
   "execution_count": 26,
   "id": "11cbc843",
   "metadata": {},
   "outputs": [
    {
     "name": "stderr",
     "output_type": "stream",
     "text": [
      "/opt/homebrew/Caskroom/miniforge/base/lib/python3.9/site-packages/joblib/externals/loky/process_executor.py:702: UserWarning: A worker stopped while some jobs were given to the executor. This can be caused by a too short worker timeout or by a memory leak.\n",
      "  warnings.warn(\n"
     ]
    },
    {
     "name": "stdout",
     "output_type": "stream",
     "text": [
      "Total GridSearchCV Time (min): 4.41634354988734\n"
     ]
    }
   ],
   "source": [
    "import time\n",
    "\n",
    "from sklearn.model_selection import GridSearchCV\n",
    "svm_params={'kernel':('linear', 'rbf'), 'C':[1, 5, 10, 20], 'gamma':('auto','scale')}\n",
    "gs = GridSearchCV(\n",
    "    SVC(),\n",
    "    param_grid=svm_params,\n",
    "    scoring=p1_metrics_scorer,\n",
    "    refit=\"auc\",\n",
    "    cv=skf,\n",
    "    n_jobs=-1,\n",
    "    return_train_score=False\n",
    ")\n",
    "svm_gs_start = time.time()\n",
    "svm_gs=gs.fit(X_train_proj_full_scaled,Y_train_proj_full)\n",
    "svm_gs_end = time.time()\n",
    "print(\"Total GridSearchCV Time (min):\",(svm_gs_end-svm_gs_start)/60)"
   ]
  },
  {
   "cell_type": "markdown",
   "id": "7c47f2c1",
   "metadata": {},
   "source": [
    "2. Report the time required to perform cross-validation via `GridSearchCV`. Report the mean and standard deviation of the performance metrics for the best performing model along with its associated hyperparameters."
   ]
  },
  {
   "cell_type": "code",
   "execution_count": 27,
   "id": "f0408946",
   "metadata": {},
   "outputs": [
    {
     "data": {
      "text/plain": [
       "{'C': 10, 'gamma': 'auto', 'kernel': 'linear'}"
      ]
     },
     "execution_count": 27,
     "metadata": {},
     "output_type": "execute_result"
    }
   ],
   "source": [
    "#best parameters\n",
    "svm_gs.cv_results_['params'][svm_gs.best_index_]"
   ]
  },
  {
   "cell_type": "code",
   "execution_count": 28,
   "id": "8175248d",
   "metadata": {},
   "outputs": [
    {
     "data": {
      "text/plain": [
       "0.7912922936739719"
      ]
     },
     "execution_count": 28,
     "metadata": {},
     "output_type": "execute_result"
    }
   ],
   "source": [
    "#best AUC\n",
    "svm_gs.best_score_"
   ]
  },
  {
   "cell_type": "code",
   "execution_count": 29,
   "id": "0d7473fd",
   "metadata": {},
   "outputs": [
    {
     "name": "stdout",
     "output_type": "stream",
     "text": [
      "SVM GS Cross-validation Metrics\n",
      "test_auc 0.7912922936739719 (0.006809185225121138)\n",
      "test_f1 0.7055531047827499 (0.00966086786067156)\n",
      "test_accuracy 0.8463497839435978 (0.004418425087862038)\n",
      "test_sensitivity 0.6687633333560817 (0.012680434011477672)\n",
      "test_specificity 0.9138212539918623 (0.0026374717921185255)\n",
      "test_precision 0.7467075692837055 (0.007620824284638637)\n"
     ]
    }
   ],
   "source": [
    "print(\"SVM GS Cross-validation Metrics\")\n",
    "svm_gs_stats = collate_ht_results(svm_gs)"
   ]
  },
  {
   "cell_type": "markdown",
   "id": "24f3a13d",
   "metadata": {},
   "source": [
    "3. Using `RandomizedSearchCV`, determine the best choice of hyperparameters after **16 trials** "
   ]
  },
  {
   "cell_type": "code",
   "execution_count": 30,
   "id": "073daa7d",
   "metadata": {},
   "outputs": [
    {
     "name": "stderr",
     "output_type": "stream",
     "text": [
      "/opt/homebrew/Caskroom/miniforge/base/lib/python3.9/site-packages/joblib/externals/loky/process_executor.py:702: UserWarning: A worker stopped while some jobs were given to the executor. This can be caused by a too short worker timeout or by a memory leak.\n",
      "  warnings.warn(\n"
     ]
    }
   ],
   "source": [
    "from sklearn.model_selection import RandomizedSearchCV\n",
    "svm_rs_params={'kernel':('linear', 'rbf'), 'C':[1]+list(range(5,101,5)), 'gamma':('auto','scale')}\n",
    "rs = RandomizedSearchCV(\n",
    "    SVC(),\n",
    "    svm_rs_params,\n",
    "    n_iter=16,\n",
    "    scoring=p1_metrics_scorer,\n",
    "    refit='auc',\n",
    "    cv=skf,\n",
    "    n_jobs=-1,\n",
    "    return_train_score=False,\n",
    "    random_state=89973487)\n",
    "svm_rs_start = time.time()\n",
    "svm_rs=rs.fit(X_train_proj_full_scaled,Y_train_proj_full)\n",
    "svm_rs_end = time.time()"
   ]
  },
  {
   "cell_type": "markdown",
   "id": "c1a0f00d",
   "metadata": {},
   "source": [
    "4. Report the time required to perform cross-validation via `RandomizedSearchCV`. Report the mean and standard deviation of the performance metrics for the best performing model along with its associated hyperparameters."
   ]
  },
  {
   "cell_type": "code",
   "execution_count": 31,
   "id": "5562efaa",
   "metadata": {},
   "outputs": [
    {
     "name": "stdout",
     "output_type": "stream",
     "text": [
      "Total RandomizedSearchCV Time (min): 9.260408552487691\n"
     ]
    }
   ],
   "source": [
    "print(\"Total RandomizedSearchCV Time (min):\",(svm_rs_end-svm_rs_start)/60)"
   ]
  },
  {
   "cell_type": "code",
   "execution_count": 32,
   "id": "d5d1ce06",
   "metadata": {},
   "outputs": [
    {
     "data": {
      "text/plain": [
       "{'kernel': 'linear', 'gamma': 'auto', 'C': 10}"
      ]
     },
     "execution_count": 32,
     "metadata": {},
     "output_type": "execute_result"
    }
   ],
   "source": [
    "svm_rs.cv_results_['params'][svm_rs.best_index_]"
   ]
  },
  {
   "cell_type": "code",
   "execution_count": 33,
   "id": "a5bcd248",
   "metadata": {},
   "outputs": [
    {
     "data": {
      "text/plain": [
       "0.7912922936739719"
      ]
     },
     "execution_count": 33,
     "metadata": {},
     "output_type": "execute_result"
    }
   ],
   "source": [
    "svm_rs.best_score_"
   ]
  },
  {
   "cell_type": "code",
   "execution_count": 34,
   "id": "eb1859dd",
   "metadata": {},
   "outputs": [
    {
     "name": "stdout",
     "output_type": "stream",
     "text": [
      "SVM RS Cross-validation Metrics\n",
      "test_auc 0.7912922936739719 (0.006809185225121138)\n",
      "test_f1 0.7055531047827499 (0.00966086786067156)\n",
      "test_accuracy 0.8463497839435978 (0.004418425087862038)\n",
      "test_sensitivity 0.6687633333560817 (0.012680434011477672)\n",
      "test_specificity 0.9138212539918623 (0.0026374717921185255)\n",
      "test_precision 0.7467075692837055 (0.007620824284638637)\n"
     ]
    }
   ],
   "source": [
    "print(\"SVM RS Cross-validation Metrics\")\n",
    "svm_rs_stats = collate_ht_results(svm_rs)"
   ]
  },
  {
   "cell_type": "markdown",
   "id": "f40aac89",
   "metadata": {},
   "source": [
    "5. Compare the performance of the two models (using the metrics in 1.2) as well as the time required to compute the models. Which hyperparameter method do you think is better in this case, and why?"
   ]
  },
  {
   "cell_type": "markdown",
   "id": "409b42f7",
   "metadata": {},
   "source": [
    "In this case both hyperparameter search methods select the same hyperparameters, thereby yielding the same performance. In this case we do not gain anything from using randomized search, though in general you are more likely to achieve better performance with a random search of hyperparameters when the search space is very large."
   ]
  },
  {
   "cell_type": "markdown",
   "id": "22d2f1db",
   "metadata": {},
   "source": [
    "## Part 4: Random Forest Hyperparameter Tuning"
   ]
  },
  {
   "cell_type": "markdown",
   "id": "ca639f6f",
   "metadata": {},
   "source": [
    "Utilizing the cross-validation dataset from Part 2, construct a Random Forest model:\n",
    "\n",
    "1. Using `RandomizedSearchCV`, determine the best choice of hyperparameters after **16 trials** using the following possible values:\n",
    "- *Split criterion*: Gini impurity, information gain (entropy)\n",
    "- *Maximum tree depth*:None, log<sub>2</sub>|cross-validation dataset|-1 (use `ceil` to round up to the nearest integer)\n",
    "- *Number of trees*: [10,20,...,100]\n",
    "2. Report the time required to perform cross-validation via `RandomizedSearchCV`. Report the mean and standard deviation of the performance metrics for the best performing model along with its associated hyperparameters. You may use the function `collate_ht_results` for this purpose.\n",
    "3. Compare the performance of this model to the best RF model constructed in Part 2. Which performs better?"
   ]
  },
  {
   "cell_type": "markdown",
   "id": "e8c49ec0",
   "metadata": {},
   "source": [
    "1. Using `RandomizedSearchCV`, determine the best choice of hyperparameters after **16 trials**"
   ]
  },
  {
   "cell_type": "code",
   "execution_count": 35,
   "id": "49417975",
   "metadata": {},
   "outputs": [
    {
     "name": "stdout",
     "output_type": "stream",
     "text": [
      "Depth Limit: 14\n"
     ]
    }
   ],
   "source": [
    "from math import *\n",
    "num_training_samples=X_train_proj_full.shape[0]\n",
    "depth_limit=ceil(log2(num_training_samples)-1)\n",
    "print(\"Depth Limit:\",depth_limit)"
   ]
  },
  {
   "cell_type": "code",
   "execution_count": 36,
   "id": "e3128aa5",
   "metadata": {},
   "outputs": [
    {
     "name": "stderr",
     "output_type": "stream",
     "text": [
      "/opt/homebrew/Caskroom/miniforge/base/lib/python3.9/site-packages/joblib/externals/loky/process_executor.py:702: UserWarning: A worker stopped while some jobs were given to the executor. This can be caused by a too short worker timeout or by a memory leak.\n",
      "  warnings.warn(\n"
     ]
    }
   ],
   "source": [
    "from sklearn.model_selection import RandomizedSearchCV\n",
    "num_features=X_train_proj.shape[1]\n",
    "rf_params={'criterion':('gini', 'entropy'),'max_depth':(None,depth_limit),'n_estimators':[10,20,30,40,50,60,70,80,90,100]}\n",
    "rf_rs = RandomizedSearchCV(\n",
    "    RandomForestClassifier(),\n",
    "    rf_params,\n",
    "    n_iter=16,\n",
    "    scoring=p1_metrics_scorer,\n",
    "    refit=\"auc\",\n",
    "    cv=skf,\n",
    "    n_jobs=-1,\n",
    "    return_train_score=False,\n",
    "    random_state=89973487\n",
    ")\n",
    "rf_rs_start = time.time()\n",
    "rf_rs=rf_rs.fit(X_train_proj_full,Y_train_proj_full)\n",
    "rf_rs_end = time.time()"
   ]
  },
  {
   "cell_type": "markdown",
   "id": "8781e1af",
   "metadata": {},
   "source": [
    "2. Report the time required to perform cross-validation via `RandomizedSearchCV`. Report the mean and standard deviation of the performance metrics for the best performing model along with its associated hyperparameters."
   ]
  },
  {
   "cell_type": "code",
   "execution_count": 37,
   "id": "4a49989a",
   "metadata": {},
   "outputs": [
    {
     "name": "stdout",
     "output_type": "stream",
     "text": [
      "Total RandomizedSearchCV Time (min): 0.18622811635335287\n"
     ]
    }
   ],
   "source": [
    "print(\"Total RandomizedSearchCV Time (min):\",(rf_rs_end-rf_rs_start)/60)"
   ]
  },
  {
   "cell_type": "code",
   "execution_count": 38,
   "id": "5f6b7831",
   "metadata": {},
   "outputs": [
    {
     "data": {
      "text/plain": [
       "{'n_estimators': 70, 'max_depth': 14, 'criterion': 'entropy'}"
      ]
     },
     "execution_count": 38,
     "metadata": {},
     "output_type": "execute_result"
    }
   ],
   "source": [
    "rf_rs.cv_results_['params'][rf_rs.best_index_]"
   ]
  },
  {
   "cell_type": "code",
   "execution_count": 39,
   "id": "500cbcf0",
   "metadata": {},
   "outputs": [
    {
     "data": {
      "text/plain": [
       "0.799107501075537"
      ]
     },
     "execution_count": 39,
     "metadata": {},
     "output_type": "execute_result"
    }
   ],
   "source": [
    "rf_rs.best_score_"
   ]
  },
  {
   "cell_type": "code",
   "execution_count": 40,
   "id": "1a2b7fb3",
   "metadata": {},
   "outputs": [
    {
     "name": "stdout",
     "output_type": "stream",
     "text": [
      "RF RS Cross-validation Metrics\n",
      "test_auc 0.799107501075537 (0.005085955585956652)\n",
      "test_f1 0.7224650690255522 (0.007643081243358209)\n",
      "test_accuracy 0.8593131680691382 (0.003866540011344708)\n",
      "test_sensitivity 0.6651243764118172 (0.00987547318621896)\n",
      "test_specificity 0.9330906257392566 (0.004427367499926376)\n",
      "test_precision 0.790786387453704 (0.010685322853426571)\n"
     ]
    }
   ],
   "source": [
    "print(\"RF RS Cross-validation Metrics\")\n",
    "rf_rs_stats = collate_ht_results(rf_rs)"
   ]
  },
  {
   "cell_type": "markdown",
   "id": "52adbdd2",
   "metadata": {},
   "source": [
    "3. Compare the performance of this model to the best RF model constructed in Part 2. Which performs better?"
   ]
  },
  {
   "cell_type": "markdown",
   "id": "ab6854cd",
   "metadata": {},
   "source": [
    "The hyperparameter optimized Random Forest model acheives effectively the same performance in terms of AUC, F1, and other metrics, well within one standard deviation. Thus in this case the models can be considered to perform equally well."
   ]
  },
  {
   "cell_type": "markdown",
   "id": "96964f7a",
   "metadata": {},
   "source": [
    "## Part 5: Feature Selection"
   ]
  },
  {
   "cell_type": "markdown",
   "id": "f6264831",
   "metadata": {},
   "source": [
    "Perform a stratified split of the **training data** into feature selection (one-sixth)/training (five-sixths) sets, then:\n",
    "1. Calculate feature importance on the feature selection subset using *Random Forest Feature Importance (RFFI)*. Produce a bar graph showing each feature's importance and its standard deviation, as determined by RFFI, in descending order.\n",
    "2. Choosing the **top 6 features**, train NB, SVM, and RF models on this new,smaller training set and test on the validation set.\n",
    "3. Choosing the **top 11 features**, train NB, SVM, and RF models on this new,smaller training set and test on the validation set.\n",
    "4. Compare the performance of the models with respect the algorithm used (e.g., NB) and the number of features chosen (6, 11, and all features (those constructed in Part 1). How do they compare?"
   ]
  },
  {
   "cell_type": "markdown",
   "id": "95168ab4",
   "metadata": {},
   "source": [
    "Perform a stratified split of the **training data** into feature selection (one-sixth)/training (five-sixths) sets."
   ]
  },
  {
   "cell_type": "code",
   "execution_count": 41,
   "id": "4f550185",
   "metadata": {},
   "outputs": [],
   "source": [
    "#split the data\n",
    "split = StratifiedShuffleSplit(n_splits=1,test_size=5/6, random_state=189973487)\n",
    "for train_index, test_index in split.split(X_train_proj, Y_train_proj):\n",
    "    X_fs_train = X_train_proj[train_index,:]\n",
    "    #X_fs_train_scaled = X_train_proj_scaled[train_index,:]\n",
    "    X_fs_test = X_train_proj[test_index,:]\n",
    "    X_fs_test_scaled = X_train_proj_scaled[test_index,:]\n",
    "    Y_fs_train = Y_train_proj[train_index]\n",
    "    Y_fs_test = Y_train_proj[test_index]"
   ]
  },
  {
   "cell_type": "markdown",
   "id": "a8feedfe",
   "metadata": {},
   "source": [
    "1. Calculate feature importance on the feature selection subset using *Random Forest Feature Importance (RFFI)*. Produce a bar graph showing each feature's importance and its standard deviation, as determined by RFFI, in descending order."
   ]
  },
  {
   "cell_type": "code",
   "execution_count": 42,
   "id": "7a716dda",
   "metadata": {},
   "outputs": [
    {
     "name": "stdout",
     "output_type": "stream",
     "text": [
      "age 0.14085065545342848 (0.03178274176592805) S/I Ratio: 0.22564851873505729\n",
      "fnlwgt 0.12360798453363879 (0.014929664522054674) S/I Ratio: 0.12078236352111786\n",
      "education-num 0.10753143087801321 (0.0229210010762082) S/I Ratio: 0.21315629197020963\n",
      "x1_Married-civ-spouse 0.09038019031388901 (0.08767711489436295) S/I Ratio: 0.9700921694218797\n",
      "capital-gain 0.0855938765278461 (0.03411639304937048) S/I Ratio: 0.39858450666469647\n",
      "hours-per-week 0.07844344747410881 (0.014561955728510632) S/I Ratio: 0.18563635583860563\n",
      "x3_Husband 0.05137355134274718 (0.06685102574707011) S/I Ratio: 1.3012732038138144\n",
      "x2_Exec-managerial 0.02921711231435747 (0.011907549471520723) S/I Ratio: 0.4075539479536203\n",
      "x1_Never-married 0.026601524423387143 (0.041786796328376334) S/I Ratio: 1.5708421691667724\n",
      "capital-loss 0.023722249414660387 (0.008869403862312534) S/I Ratio: 0.3738854485203763\n",
      "x2_Prof-specialty 0.02118729191386835 (0.012150085771137117) S/I Ratio: 0.5734610076894329\n",
      "x5_Female 0.014150571321072952 (0.02075672350005441) S/I Ratio: 1.466847028935405\n",
      "x0_Private 0.014053927818653184 (0.0052517636146670495) S/I Ratio: 0.3736865367770429\n",
      "x3_Not-in-family 0.012270931307631284 (0.018163818389314777) S/I Ratio: 1.4802314456783496\n",
      "native-country-lat 0.01175349998803378 (0.005303296465207014) S/I Ratio: 0.45120997750510844\n",
      "x5_Male 0.01167594431192888 (0.0184549075441539) S/I Ratio: 1.5805922888223443\n",
      "x2_Craft-repair 0.009668750153211033 (0.003807050902854252) S/I Ratio: 0.3937479862989235\n",
      "x2_Other-service 0.009308905238205654 (0.006269371546422899) S/I Ratio: 0.6734810792457221\n",
      "x2_Sales 0.00916853368749941 (0.003988427445336319) S/I Ratio: 0.43501257466875354\n",
      "x0_Self-emp-not-inc 0.008550047568011353 (0.004021652164222229) S/I Ratio: 0.4703660572917282\n",
      "native-country-long 0.008349970477126534 (0.004562519081254275) S/I Ratio: 0.546411402741195\n",
      "x4_White 0.0077036020921515316 (0.0036197645103084697) S/I Ratio: 0.4698794754724292\n",
      "x3_Own-child 0.007390835603909943 (0.014765568504460145) S/I Ratio: 1.9978212607852863\n",
      "x2_Machine-op-inspct 0.00719528854512121 (0.00419050591615285) S/I Ratio: 0.5823958121866061\n",
      "x3_Wife 0.006991214314157843 (0.007111662901198964) S/I Ratio: 1.017228564542386\n",
      "x0_Local-gov 0.006876703594249725 (0.003570255822678192) S/I Ratio: 0.5191812870433484\n",
      "x0_Self-emp-inc 0.006206210687696516 (0.0034339281908516103) S/I Ratio: 0.553305126694972\n",
      "x2_Adm-clerical 0.006179186683848805 (0.0029548470311948297) S/I Ratio: 0.4781935200174849\n",
      "x1_Divorced 0.005747704552499562 (0.008516058179384637) S/I Ratio: 1.4816450813709925\n",
      "x2_Tech-support 0.005686015791606082 (0.0033372564179610397) S/I Ratio: 0.5869235225986582\n",
      "x2_Transport-moving 0.005678004801785147 (0.0029148436165426814) S/I Ratio: 0.5133570185827007\n",
      "x2_Handlers-cleaners 0.005335693127619786 (0.002973657212007704) S/I Ratio: 0.5573141372420402\n",
      "x0_Federal-gov 0.005244082281080054 (0.002668160756617369) S/I Ratio: 0.5087946019160942\n",
      "x4_Black 0.0048202051430700135 (0.0031160022707855976) S/I Ratio: 0.6464459869027482\n",
      "x0_State-gov 0.004141112832298065 (0.0024043494541046103) S/I Ratio: 0.5806046711290267\n",
      "x2_Protective-serv 0.0036580032698665587 (0.0024875532005495028) S/I Ratio: 0.6800303381468128\n",
      "x2_Farming-fishing 0.0034995735379026545 (0.002263742685207835) S/I Ratio: 0.6468624421490308\n",
      "x2_Unknown 0.0032776179459591296 (0.0033916071495908705) S/I Ratio: 1.034778063066281\n",
      "x3_Unmarried 0.0032305845666971565 (0.004127352128791908) S/I Ratio: 1.27758677836178\n",
      "x0_Unknown 0.0032209832528540773 (0.0029799839339148455) S/I Ratio: 0.9251783384077874\n",
      "x4_Asian-Pac-Islander 0.0030002556191440475 (0.0023820613909801254) S/I Ratio: 0.7939528138138148\n",
      "x3_Other-relative 0.0023792724939090413 (0.0029077517589153963) S/I Ratio: 1.2221180072308937\n",
      "x1_Widowed 0.001480996855961554 (0.0019880497719243165) S/I Ratio: 1.3423727159998273\n",
      "x4_Amer-Indian-Eskimo 0.0011796268961755457 (0.0016034964984856393) S/I Ratio: 1.3593251422838155\n",
      "x1_Separated 0.0008393185063706474 (0.0011294464360658985) S/I Ratio: 1.3456708359140233\n",
      "x1_Married-AF-spouse 0.0004326934740884576 (0.0008969431110665108) S/I Ratio: 2.0729296020839554\n",
      "x1_Married-spouse-absent 0.0004318262746724174 (0.000892322412983593) S/I Ratio: 2.0663921241487846\n",
      "x2_Priv-house-serv 0.0003591826248116989 (0.0006923815770429904) S/I Ratio: 1.9276588821799792\n",
      "x4_Other 0.00035380816917377845 (0.0006478452985737514) S/I Ratio: 1.831063709146727\n",
      "x0_Never-worked 0.0 (0.0) S/I Ratio: nan\n",
      "x0_Without-pay 0.0 (0.0) S/I Ratio: nan\n",
      "x2_Armed-Forces 0.0 (0.0) S/I Ratio: nan\n"
     ]
    },
    {
     "name": "stderr",
     "output_type": "stream",
     "text": [
      "/var/folders/7b/h5dzld393psbvkcz8xyk7w980000gn/T/ipykernel_63597/412675008.py:11: RuntimeWarning: invalid value encountered in double_scalars\n",
      "  si_ratios=[i/j for i,j in zip(std,importances)]\n"
     ]
    },
    {
     "data": {
      "text/plain": [
       "Text(0, 0.5, 'Mean decrease in impurity')"
      ]
     },
     "execution_count": 42,
     "metadata": {},
     "output_type": "execute_result"
    },
    {
     "data": {
      "image/png": "[encoded data removed]",
      "text/plain": [
       "<Figure size 432x288 with 1 Axes>"
      ]
     },
     "metadata": {
      "needs_background": "light"
     },
     "output_type": "display_data"
    }
   ],
   "source": [
    "import matplotlib.pyplot as plt\n",
    "rf_fs = RandomForestClassifier()\n",
    "rf_fs.fit(X_fs_train,Y_fs_train)\n",
    "importances = rf_fs.feature_importances_\n",
    "std = np.std([tree.feature_importances_ for tree in rf_fs.estimators_], axis=0)\n",
    "\n",
    "ix = np.argsort(importances)[::-1]\n",
    "importances=importances[ix]\n",
    "std=std[ix]\n",
    "feature_names=feature_names_enc[ix]\n",
    "si_ratios=[i/j for i,j in zip(std,importances)]\n",
    "for i in range(len(importances)):\n",
    "    \n",
    "    print(feature_names[i],importances[i],\"(\"+str(std[i])+\")\",\"S/I Ratio:\",si_ratios[i])\n",
    "    \n",
    "import pandas as pd\n",
    "\n",
    "#let's plot only the first 15 features to make the plot more visually appealing\n",
    "forest_importances = pd.Series(importances[:15],index=feature_names_enc[ix[:15]])\n",
    "\n",
    "fig, ax = plt.subplots()\n",
    "forest_importances.plot.bar(yerr=std[:15], ax=ax)\n",
    "ax.set_title(\"Feature importances using MDI\")\n",
    "ax.set_ylabel(\"Mean decrease in impurity\")\n",
    "#fig.tight_layout()"
   ]
  },
  {
   "cell_type": "markdown",
   "id": "250fa461",
   "metadata": {},
   "source": [
    "2. Choosing the **top 6 features**, train NB, SVM, and RF models on this new,smaller training set and test on the validation set."
   ]
  },
  {
   "cell_type": "code",
   "execution_count": 43,
   "id": "d67d2864",
   "metadata": {},
   "outputs": [
    {
     "name": "stdout",
     "output_type": "stream",
     "text": [
      "[ 0  1  2 17  3  5]\n"
     ]
    }
   ],
   "source": [
    "features_to_select=list(range(6))\n",
    "print(ix[features_to_select])"
   ]
  },
  {
   "cell_type": "markdown",
   "id": "c8f88e7b",
   "metadata": {},
   "source": [
    "## Naive Bayes (6 Features)"
   ]
  },
  {
   "cell_type": "code",
   "execution_count": 44,
   "id": "514279a9",
   "metadata": {},
   "outputs": [
    {
     "name": "stdout",
     "output_type": "stream",
     "text": [
      "NB Validation Metrics\n",
      "auc: 0.5958437185622862\n",
      "f1: 0.3379701184956208\n",
      "accuracy: 0.7662361287975259\n",
      "sensitivity: 0.21678783873099802\n",
      "specificity: 0.9748995983935743\n",
      "precision: 0.7663551401869159\n",
      "confusion_matrix: [[3884  100]\n",
      " [1185  328]]\n"
     ]
    }
   ],
   "source": [
    "X_fs_reduced = X_fs_test[:,ix[features_to_select]]\n",
    "X_validation_proj_reduced = X_validation_proj[:,ix[features_to_select]]\n",
    "gnb_fs6 = GaussianNB()\n",
    "gnb_fs6.fit(X_fs_reduced,Y_fs_test)\n",
    "gnb_fs6_y_pred=gnb_fs6.predict(X_validation_proj_reduced)\n",
    "gnb_fs6_metrics = p1_metrics(Y_validation_proj, gnb_fs6_y_pred)\n",
    "print(\"NB Validation Metrics\")\n",
    "for metric in gnb_fs6_metrics:\n",
    "    print(metric+\":\",gnb_fs6_metrics[metric])"
   ]
  },
  {
   "cell_type": "markdown",
   "id": "5451a2c3",
   "metadata": {},
   "source": [
    "## SVM (6 Features)"
   ]
  },
  {
   "cell_type": "code",
   "execution_count": 45,
   "id": "50fc9b11",
   "metadata": {},
   "outputs": [
    {
     "name": "stdout",
     "output_type": "stream",
     "text": [
      "SVM Validation Metrics\n",
      "auc: 0.766552661405702\n",
      "f1: 0.6737536656891495\n",
      "accuracy: 0.8380935055484809\n",
      "sensitivity: 0.6074025115664243\n",
      "specificity: 0.9257028112449799\n",
      "precision: 0.7563786008230453\n",
      "confusion_matrix: [[3688  296]\n",
      " [ 594  919]]\n"
     ]
    }
   ],
   "source": [
    "X_fs_reduced_scaled = X_fs_test_scaled[:,ix[features_to_select]]\n",
    "X_validation_proj_reduced_scaled = X_validation_proj_scaled[:,ix[features_to_select]]\n",
    "svmc_fs6 = SVC()\n",
    "svmc_fs6.fit(X_fs_reduced_scaled,Y_fs_test)\n",
    "svmc_fs6_y_pred=svmc_fs6.predict(X_validation_proj_reduced_scaled)\n",
    "svmc_fs6_metrics= p1_metrics(Y_validation_proj, svmc_fs6_y_pred)\n",
    "print(\"SVM Validation Metrics\")\n",
    "for metric in svmc_fs6_metrics:\n",
    "    print(metric+\":\",svmc_fs6_metrics[metric])"
   ]
  },
  {
   "cell_type": "markdown",
   "id": "a4fa3570",
   "metadata": {},
   "source": [
    "## Random Forest (6 Features)"
   ]
  },
  {
   "cell_type": "code",
   "execution_count": 46,
   "id": "a28e0a23",
   "metadata": {},
   "outputs": [
    {
     "name": "stdout",
     "output_type": "stream",
     "text": [
      "RF Validation Metrics\n",
      "auc: 0.7685847487769982\n",
      "f1: 0.6691884456671252\n",
      "accuracy: 0.8249954520647625\n",
      "sensitivity: 0.643093192333113\n",
      "specificity: 0.8940763052208835\n",
      "precision: 0.6974910394265234\n",
      "confusion_matrix: [[3562  422]\n",
      " [ 540  973]]\n"
     ]
    }
   ],
   "source": [
    "rf_fs6 = RandomForestClassifier()\n",
    "rf_fs6.fit(X_fs_reduced,Y_fs_test)\n",
    "rf_fs6_y_pred=rf_fs6.predict(X_validation_proj_reduced)\n",
    "rf_fs6_metrics= p1_metrics(Y_validation_proj,rf_fs6_y_pred)\n",
    "print(\"RF Validation Metrics\")\n",
    "for metric in rf_fs6_metrics:\n",
    "    print(metric+\":\",rf_fs6_metrics[metric])"
   ]
  },
  {
   "cell_type": "markdown",
   "id": "261ec00d",
   "metadata": {},
   "source": [
    "3. Choosing the **top 11 features**, train NB, SVM, and RF models on this new,smaller training set and test on the validation set."
   ]
  },
  {
   "cell_type": "code",
   "execution_count": 47,
   "id": "3b2c4d9e",
   "metadata": {},
   "outputs": [
    {
     "name": "stdout",
     "output_type": "stream",
     "text": [
      "[ 0  1  2 17  3  5 37 25 19  4 31]\n"
     ]
    }
   ],
   "source": [
    "features_to_select=list(range(11))\n",
    "print(ix[features_to_select])"
   ]
  },
  {
   "cell_type": "markdown",
   "id": "68ab5d13",
   "metadata": {},
   "source": [
    "## Naive Bayes (11 Features)"
   ]
  },
  {
   "cell_type": "code",
   "execution_count": 48,
   "id": "aba5ed27",
   "metadata": {},
   "outputs": [
    {
     "name": "stdout",
     "output_type": "stream",
     "text": [
      "NB Validation Metrics\n",
      "auc: 0.6243972087955258\n",
      "f1: 0.4177449168207024\n",
      "accuracy: 0.7707840640349282\n",
      "sensitivity: 0.29874421678783875\n",
      "specificity: 0.9500502008032129\n",
      "precision: 0.6943164362519201\n",
      "confusion_matrix: [[3785  199]\n",
      " [1061  452]]\n"
     ]
    }
   ],
   "source": [
    "X_fs_reduced = X_fs_test[:,ix[features_to_select]]\n",
    "X_validation_proj_reduced = X_validation_proj[:,ix[features_to_select]]\n",
    "gnb_fs11 = GaussianNB()\n",
    "gnb_fs11.fit(X_fs_reduced,Y_fs_test)\n",
    "gnb_fs11_y_pred=gnb_fs11.predict(X_validation_proj_reduced)\n",
    "gnb_fs11_metrics = p1_metrics(Y_validation_proj, gnb_fs11_y_pred)\n",
    "print(\"NB Validation Metrics\")\n",
    "for metric in gnb_fs11_metrics:\n",
    "    print(metric+\":\",gnb_fs11_metrics[metric])"
   ]
  },
  {
   "cell_type": "markdown",
   "id": "edd36c7e",
   "metadata": {},
   "source": [
    "## SVM (11 Features)"
   ]
  },
  {
   "cell_type": "code",
   "execution_count": 49,
   "id": "d8078cf1",
   "metadata": {},
   "outputs": [
    {
     "name": "stdout",
     "output_type": "stream",
     "text": [
      "SVM Validation Metrics\n",
      "auc: 0.7779431506594786\n",
      "f1: 0.688034188034188\n",
      "accuracy: 0.8406403492814263\n",
      "sensitivity: 0.6384666226040978\n",
      "specificity: 0.9174196787148594\n",
      "precision: 0.745945945945946\n",
      "confusion_matrix: [[3655  329]\n",
      " [ 547  966]]\n"
     ]
    }
   ],
   "source": [
    "X_fs_reduced_scaled = X_fs_test_scaled[:,ix[features_to_select]]\n",
    "X_validation_proj_reduced_scaled = X_validation_proj_scaled[:,ix[features_to_select]]\n",
    "svmc_fs11 = SVC()\n",
    "svmc_fs11.fit(X_fs_reduced_scaled,Y_fs_test)\n",
    "svmc_fs11_y_pred=svmc_fs11.predict(X_validation_proj_reduced_scaled)\n",
    "svmc_fs11_metrics= p1_metrics(Y_validation_proj, svmc_fs11_y_pred)\n",
    "print(\"SVM Validation Metrics\")\n",
    "for metric in svmc_fs11_metrics:\n",
    "    print(metric+\":\",svmc_fs11_metrics[metric])"
   ]
  },
  {
   "cell_type": "markdown",
   "id": "618e193e",
   "metadata": {},
   "source": [
    "## Random Forest (11 Features)"
   ]
  },
  {
   "cell_type": "code",
   "execution_count": 50,
   "id": "747f3f6a",
   "metadata": {},
   "outputs": [
    {
     "name": "stdout",
     "output_type": "stream",
     "text": [
      "RF Validation Metrics\n",
      "auc: 0.7846944619190575\n",
      "f1: 0.6946273830155979\n",
      "accuracy: 0.8397307622339458\n",
      "sensitivity: 0.6622604097818903\n",
      "specificity: 0.9071285140562249\n",
      "precision: 0.7303206997084548\n",
      "confusion_matrix: [[3614  370]\n",
      " [ 511 1002]]\n"
     ]
    }
   ],
   "source": [
    "rf_fs11 = RandomForestClassifier()\n",
    "rf_fs11.fit(X_fs_reduced,Y_fs_test)\n",
    "rf_fs11_y_pred=rf_fs11.predict(X_validation_proj_reduced)\n",
    "rf_fs11_metrics= p1_metrics(Y_validation_proj,rf_fs11_y_pred)\n",
    "print(\"RF Validation Metrics\")\n",
    "for metric in rf_fs11_metrics:\n",
    "    print(metric+\":\",rf_fs11_metrics[metric])"
   ]
  },
  {
   "cell_type": "markdown",
   "id": "91f73e08",
   "metadata": {},
   "source": [
    "4. Compare the performance of the models with respect the algorithm used (e.g., NB) and the number of features chosen (6, 11, and all features (those constructed in Part 1). How do they compare?"
   ]
  },
  {
   "cell_type": "code",
   "execution_count": 51,
   "id": "734e4b30",
   "metadata": {},
   "outputs": [
    {
     "name": "stdout",
     "output_type": "stream",
     "text": [
      "Model\t\t6\t\t\t11\t\t\t52\n",
      "NB\t0.5958437185622862\t0.6243972087955258\t0.6251502208437185\n",
      "SVM\t0.766552661405702\t0.7779431506594786\t0.7773074286571269\n",
      "RF\t0.7685847487769982\t0.7846944619190575\t0.7996872652540101\n"
     ]
    }
   ],
   "source": [
    "print(\"Model\\t\\t6\\t\\t\\t11\\t\\t\\t52\")\n",
    "print(\"NB\\t\"+str(gnb_fs6_metrics['auc'])+\"\\t\"+str(gnb_fs11_metrics['auc'])+\"\\t\"+str(gnb_metrics['auc']))\n",
    "print(\"SVM\\t\"+str(svmc_fs6_metrics['auc'])+\"\\t\"+str(svmc_fs11_metrics['auc'])+\"\\t\"+str(svmc_metrics['auc']))\n",
    "print(\"RF\\t\"+str(rf_fs6_metrics['auc'])+\"\\t\"+str(rf_fs11_metrics['auc'])+\"\\t\"+str(rf_metrics['auc']))"
   ]
  },
  {
   "cell_type": "markdown",
   "id": "0117f743",
   "metadata": {},
   "source": [
    "Feature selection does not improve model performance. However, the models achieve nearly the same performance using the top 11 features as when all features are used."
   ]
  },
  {
   "cell_type": "markdown",
   "id": "c9a605ce",
   "metadata": {},
   "source": [
    "## Part 6: Final Models and Visualization"
   ]
  },
  {
   "cell_type": "markdown",
   "id": "b366abc9",
   "metadata": {},
   "source": [
    "1. Using the full training set (**feature selection + training + validation**), train NB, SVM, and RF models, then apply them to the test set. Your final NB, SVM, and RF models should be named `gnb_final`, `svm_final`, and `rf_final`.\n",
    "2. Create a bar chart of mean metrics from cross-validation, with standard deviation as an error bar for each model on the same plot. Use the NB model from Part 2, but the optimal models from Parts 3 and 4 for SVM and RF respectively.\n",
    "3. Plot Receiver Operating Characteristic (ROC) curves for each final model in a single plot.\n",
    "4. Which of the above metrics best illuminate the difference (if any) in model performance? Why?"
   ]
  },
  {
   "cell_type": "markdown",
   "id": "66a7ae17",
   "metadata": {},
   "source": [
    "1. Using the full training set (**feature selection + training + validation**), train NB, SVM, and RF models, then apply them to the test set. Your final NB, SVM, and RF models should be named `gnb_final`, `svm_final`, and `rf_final`."
   ]
  },
  {
   "cell_type": "markdown",
   "id": "bffddde6",
   "metadata": {},
   "source": [
    "## Final Naive Bayes"
   ]
  },
  {
   "cell_type": "code",
   "execution_count": 52,
   "id": "16c42895",
   "metadata": {},
   "outputs": [
    {
     "name": "stdout",
     "output_type": "stream",
     "text": [
      "NB Final Metrics\n",
      "auc: 0.628676332802787\n",
      "f1: 0.4305493523894595\n",
      "accuracy: 0.7680553028924868\n",
      "sensitivity: 0.31836195508586523\n",
      "specificity: 0.9389907105197087\n",
      "precision: 0.6648275862068965\n",
      "confusion_matrix: [[3740  243]\n",
      " [1032  482]]\n"
     ]
    }
   ],
   "source": [
    "gnb_final = GaussianNB()\n",
    "gnb_final.fit(X_train_proj_full,Y_train_proj_full)\n",
    "gnb_final_y_pred=gnb_final.predict(X_test_proj)\n",
    "gnb_final_metrics = p1_metrics(Y_test_proj, gnb_final_y_pred)\n",
    "print(\"NB Final Metrics\")\n",
    "for metric in gnb_final_metrics:\n",
    "    print(metric+\":\",gnb_final_metrics[metric])"
   ]
  },
  {
   "cell_type": "markdown",
   "id": "00abd3d3",
   "metadata": {},
   "source": [
    "## Final SVM"
   ]
  },
  {
   "cell_type": "code",
   "execution_count": 53,
   "id": "07a60ef3",
   "metadata": {},
   "outputs": [
    {
     "name": "stdout",
     "output_type": "stream",
     "text": [
      "SVM Final Metrics\n",
      "auc: 0.7930390089186838\n",
      "f1: 0.7091800981079188\n",
      "accuracy: 0.8490085501182463\n",
      "sensitivity: 0.6684280052840158\n",
      "specificity: 0.9176500125533518\n",
      "precision: 0.755223880597015\n",
      "confusion_matrix: [[3655  328]\n",
      " [ 502 1012]]\n"
     ]
    }
   ],
   "source": [
    "svm_final = SVC(C=10,kernel='rbf',gamma='auto')\n",
    "svm_final.fit(X_train_proj_full_scaled,Y_train_proj_full)\n",
    "svm_final_y_pred=svm_final.predict(X_test_proj_scaled)\n",
    "svm_final_metrics= p1_metrics(Y_test_proj, svm_final_y_pred)\n",
    "print(\"SVM Final Metrics\")\n",
    "for metric in svm_final_metrics:\n",
    "    print(metric+\":\",svm_final_metrics[metric])"
   ]
  },
  {
   "cell_type": "markdown",
   "id": "20fce7a2",
   "metadata": {},
   "source": [
    "## Final Random Forest"
   ]
  },
  {
   "cell_type": "code",
   "execution_count": 54,
   "id": "6b9befe5",
   "metadata": {},
   "outputs": [
    {
     "name": "stdout",
     "output_type": "stream",
     "text": [
      "RF Training Metrics\n",
      "auc: 0.800094009182354\n",
      "f1: 0.7205623901581721\n",
      "accuracy: 0.8553756594506094\n",
      "sensitivity: 0.6770145310435931\n",
      "specificity: 0.9231734873211147\n",
      "precision: 0.7700976709241172\n",
      "confusion_matrix: [[3677  306]\n",
      " [ 489 1025]]\n"
     ]
    }
   ],
   "source": [
    "rf_final = RandomForestClassifier()\n",
    "rf_final.fit(X_train_proj_full,Y_train_proj_full)\n",
    "rf_final_y_pred=rf_final.predict(X_test_proj)\n",
    "rf_final_metrics= p1_metrics(Y_test_proj,rf_final_y_pred)\n",
    "print(\"RF Training Metrics\")\n",
    "for metric in rf_final_metrics:\n",
    "    print(metric+\":\",rf_final_metrics[metric])"
   ]
  },
  {
   "cell_type": "markdown",
   "id": "d9b7d32e",
   "metadata": {},
   "source": [
    "2. Create a bar chart of mean metrics from cross-validation, with standard deviation as an error bar for each model on the same plot. Use the NB model from Part 2, but the optimal models from Parts 3 and 4 for SVM and RF respectively."
   ]
  },
  {
   "cell_type": "code",
   "execution_count": 55,
   "id": "14d41001",
   "metadata": {},
   "outputs": [
    {
     "data": {
      "image/png": "[encoded data removed]",
      "text/plain": [
       "<Figure size 432x288 with 1 Axes>"
      ]
     },
     "metadata": {
      "needs_background": "light"
     },
     "output_type": "display_data"
    }
   ],
   "source": [
    "labels=metric_keys\n",
    "x = np.arange(len(labels))  # the label locations\n",
    "width = 0.2  # the width of the bars\n",
    "\n",
    "gnb_mean_metrics = [gnb_cv_stats[\"test_\"+l+\"_mean\"] for l in labels]\n",
    "gnb_std_metrics = [gnb_cv_stats[\"test_\"+l+\"_std\"] for l in labels]\n",
    "svm_mean_metrics = [svm_cv_stats[\"test_\"+l+\"_mean\"] for l in labels]\n",
    "svm_std_metrics = [svm_cv_stats[\"test_\"+l+\"_std\"] for l in labels]\n",
    "rf_mean_metrics = [rf_cv_stats[\"test_\"+l+\"_mean\"] for l in labels]\n",
    "rf_std_metrics = [rf_cv_stats[\"test_\"+l+\"_std\"] for l in labels]\n",
    "\n",
    "fig, ax = plt.subplots()\n",
    "gnb_results = ax.bar(x - width, gnb_mean_metrics, width,yerr=gnb_std_metrics, label='Naive Bayes')\n",
    "svm_results = ax.bar(x, svm_mean_metrics, width, yerr=svm_std_metrics, label='SVM')\n",
    "rf_results = ax.bar(x + width, rf_mean_metrics, width, yerr=rf_std_metrics, label='Random Forest')\n",
    "\n",
    "# Add some text for labels, title and custom x-axis tick labels, etc.\n",
    "ax.set_ylabel('Metric Value')\n",
    "ax.set_title('Cross-Validation Performance Metrics')\n",
    "plt.xticks(ticks=x,labels=labels)\n",
    "ax.legend(loc='center left', bbox_to_anchor=(1, 0.5))\n",
    "\n",
    "\n",
    "#fig.tight_layout()\n",
    "\n",
    "plt.show()"
   ]
  },
  {
   "cell_type": "markdown",
   "id": "15f314aa",
   "metadata": {},
   "source": [
    "3. Plot Receiver Operating Characteristic (ROC) curves for each final model in a single plot."
   ]
  },
  {
   "cell_type": "code",
   "execution_count": 56,
   "id": "ae326fa7",
   "metadata": {},
   "outputs": [
    {
     "data": {
      "image/png": "[encoded data removed]",
      "text/plain": [
       "<Figure size 432x288 with 1 Axes>"
      ]
     },
     "metadata": {
      "needs_background": "light"
     },
     "output_type": "display_data"
    }
   ],
   "source": [
    "from sklearn.metrics import RocCurveDisplay\n",
    "\n",
    "ax = plt.gca()\n",
    "roc_gnb = RocCurveDisplay.from_predictions(gnb_final_y_pred, Y_test_proj, ax=ax, alpha=0.8,name=\"Naive Bayes Final\")\n",
    "roc_svm = RocCurveDisplay.from_predictions(svm_final_y_pred, Y_test_proj, ax=ax, alpha=0.8,name=\"SVM Final\")\n",
    "roc_rf = RocCurveDisplay.from_predictions(rf_final_y_pred,Y_test_proj, ax=ax, alpha=0.8,name=\"RF Final\")\n",
    "plt.show()"
   ]
  },
  {
   "cell_type": "markdown",
   "id": "3a7e5a44",
   "metadata": {},
   "source": [
    "4. Which of the above metrics best illuminate the difference (if any) in model performance? Why?"
   ]
  },
  {
   "cell_type": "markdown",
   "id": "428e5a89",
   "metadata": {},
   "source": [
    "The poor performance of the Naive Bayes model relative to the other models is best observed by looking at the sensitivity values. As mentioned above, the Naive Bayes model performs poorly on the '>50K' class, which is also why the F1 score is lower for that model. The Random Forest model outperforms the SVM model slightly in sensitivity and roughly equivalently in specificity and precision, this makes the Random Forest model have slightly higher AUC and F1 scores."
   ]
  },
  {
   "cell_type": "markdown",
   "id": "8ea4ae38",
   "metadata": {},
   "source": [
    "## Part 7: Holdout Set Evaluation (Instructor)"
   ]
  },
  {
   "cell_type": "markdown",
   "id": "5b6e6dfe",
   "metadata": {},
   "source": [
    "Your final models `gnb_final`, `svm_final`, and `rf_final` will be evaluated on a holdout set by the instructor."
   ]
  },
  {
   "cell_type": "code",
   "execution_count": 57,
   "id": "d75dcbc9",
   "metadata": {},
   "outputs": [
    {
     "data": {
      "image/png": "[encoded data removed]",
      "text/plain": [
       "<Figure size 432x288 with 1 Axes>"
      ]
     },
     "metadata": {
      "needs_background": "light"
     },
     "output_type": "display_data"
    }
   ],
   "source": [
    "from sklearn.metrics import RocCurveDisplay\n",
    "census_column_names=['age','workclass','fnlwgt','education','education-num',\n",
    "                      'marital-status','occupation','relationship','race','sex',\n",
    "                      'capital-gain','capital-loss','hours-per-week','native-country',\n",
    "                      'annual-income']\n",
    "\n",
    "census_holdout_data = pd.read_csv(\"census_dataset_holdout.csv\",names=census_column_names)\n",
    "census_holdout_data.drop('education',axis=1,inplace=True)\n",
    "census_column_names.remove('education')\n",
    "\n",
    "#split features and labels, convert X sets to numpy to enable inverse transform\n",
    "X_holdout_data = census_holdout_data.drop('annual-income',axis=1)\n",
    "X_holdout_data = X_holdout_data.to_numpy()\n",
    "Y_holdout_data = census_holdout_data[['annual-income']]\n",
    "Y_holdout_data = Y_holdout_data.to_numpy()\n",
    "\n",
    "X_holdout_country_enc=CountryEncoder.transform(X_holdout_data[:,country_index])\n",
    "np.delete(X_holdout_data,country_index,axis=1)\n",
    "X_holdout_oh_enc=oh_encoder.transform(X_holdout_data[:,census_cat_indices])\n",
    "X_holdout_data_enc=np.concatenate([X_holdout_data[:,census_num_columns_idx],\n",
    "                           X_holdout_oh_enc,\n",
    "                           X_holdout_country_enc],\n",
    "                          axis=1)\n",
    "Y_holdout_data_enc = label_encoder.transform(Y_holdout_data)\n",
    "X_holdout_data_scaled=svm_scaler.transform(X_holdout_data_enc)\n",
    "ax = plt.gca()\n",
    "roc_gnb = RocCurveDisplay.from_predictions(gnb_final.predict(X_holdout_data_enc), Y_holdout_data_enc, ax=ax, alpha=0.8,name=\"Naive Bayes Holdout\")\n",
    "roc_svm = RocCurveDisplay.from_predictions(svm_final.predict(X_holdout_data_scaled), Y_holdout_data_enc, ax=ax, alpha=0.8,name=\"SVM Holdout\")\n",
    "roc_rf = RocCurveDisplay.from_predictions(rf_final.predict(X_holdout_data_enc),Y_holdout_data_enc, ax=ax, alpha=0.8,name=\"RF Holdout\")\n",
    "plt.show()"
   ]
  }
 ],
 "metadata": {
  "kernelspec": {
   "display_name": "Python 3 (ipykernel)",
   "language": "python",
   "name": "python3"
  },
  "language_info": {
   "codemirror_mode": {
    "name": "ipython",
    "version": 3
   },
   "file_extension": ".py",
   "mimetype": "text/x-python",
   "name": "python",
   "nbconvert_exporter": "python",
   "pygments_lexer": "ipython3",
   "version": "3.9.7"
  }
 },
 "nbformat": 4,
 "nbformat_minor": 5
}
